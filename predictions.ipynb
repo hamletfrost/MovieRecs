{
 "cells": [
  {
   "cell_type": "code",
   "execution_count": 1,
   "metadata": {},
   "outputs": [],
   "source": [
    "import autograd.numpy as ag_np\n",
    "import matplotlib.pyplot as plt\n",
    "from AbstractBaseCollabFilterSGD import AbstractBaseCollabFilterSGD\n",
    "from train_valid_test_loader import load_train_valid_test_datasets\n",
    "\n",
    "from CollabFilterOneVectorPerItem import CollabFilterOneVectorPerItem"
   ]
  },
  {
   "cell_type": "code",
   "execution_count": 2,
   "metadata": {},
   "outputs": [],
   "source": [
    "# Load the dataset\n",
    "train_tuple, valid_tuple, test_tuple, n_users, n_items = \\\n",
    "    load_train_valid_test_datasets()"
   ]
  },
  {
   "cell_type": "code",
   "execution_count": 3,
   "metadata": {},
   "outputs": [],
   "source": [
    "# Create the model and initialize its parameters\n",
    "# to have right scale as the dataset (right num users and items)\n",
    "model = CollabFilterOneVectorPerItem(\n",
    "    n_epochs=156, batch_size=508, step_size=0.8108726428612864,\n",
    "    alpha=0.061177501974355154, n_factors=170)\n",
    "model.init_parameter_dict(n_users, n_items, train_tuple)"
   ]
  },
  {
   "cell_type": "code",
   "execution_count": 4,
   "metadata": {},
   "outputs": [],
   "source": [
    "all_data = (ag_np.concatenate((train_tuple[0], valid_tuple[0], test_tuple[0])),\n",
    "            ag_np.concatenate((train_tuple[1], valid_tuple[1], test_tuple[1])),\n",
    "            ag_np.concatenate((train_tuple[2], valid_tuple[2], test_tuple[2])))"
   ]
  },
  {
   "cell_type": "code",
   "execution_count": 5,
   "metadata": {},
   "outputs": [
    {
     "name": "stdout",
     "output_type": "stream",
     "text": [
      "epoch       0.000 | loss_total     1.46462 | train_MAE     1.00166 | valid_MAE     1.00801 | grad_wrt_mu     1.02362 | grad_wrt_b_per_user     0.00176 | grad_wrt_c_per_item     0.00108 | grad_wrt_U     0.00000 | grad_wrt_V     0.00000\n",
      "epoch       0.006 | loss_total     1.37211 | train_MAE     0.91115 | valid_MAE     0.90768 | grad_wrt_mu     0.59864 | grad_wrt_b_per_user     0.00161 | grad_wrt_c_per_item     0.00096 | grad_wrt_U     0.00000 | grad_wrt_V     0.00000\n",
      "epoch       0.011 | loss_total     1.32028 | train_MAE     0.96249 | valid_MAE     0.96483 | grad_wrt_mu     0.33796 | grad_wrt_b_per_user     0.00161 | grad_wrt_c_per_item     0.00095 | grad_wrt_U     0.00000 | grad_wrt_V     0.00000\n",
      "epoch       0.017 | loss_total     1.25159 | train_MAE     0.93200 | valid_MAE     0.93114 | grad_wrt_mu     0.25975 | grad_wrt_b_per_user     0.00162 | grad_wrt_c_per_item     0.00094 | grad_wrt_U     0.00000 | grad_wrt_V     0.00000\n",
      "epoch       0.130 | loss_total     1.24947 | train_MAE     0.94092 | valid_MAE     0.94355 | grad_wrt_mu     0.35190 | grad_wrt_b_per_user     0.00168 | grad_wrt_c_per_item     0.00095 | grad_wrt_U     0.00000 | grad_wrt_V     0.00000\n",
      "epoch       0.254 | loss_total     1.34462 | train_MAE     0.89019 | valid_MAE     0.89020 | grad_wrt_mu     0.47826 | grad_wrt_b_per_user     0.00170 | grad_wrt_c_per_item     0.00097 | grad_wrt_U     0.00000 | grad_wrt_V     0.00000\n",
      "epoch       0.378 | loss_total     1.19436 | train_MAE     0.90023 | valid_MAE     0.90375 | grad_wrt_mu     0.24525 | grad_wrt_b_per_user     0.00156 | grad_wrt_c_per_item     0.00092 | grad_wrt_U     0.00000 | grad_wrt_V     0.00000\n",
      "epoch       0.502 | loss_total     1.08094 | train_MAE     0.86371 | valid_MAE     0.86516 | grad_wrt_mu     0.05838 | grad_wrt_b_per_user     0.00155 | grad_wrt_c_per_item     0.00090 | grad_wrt_U     0.00000 | grad_wrt_V     0.00000\n",
      "epoch       0.632 | loss_total     1.04027 | train_MAE     0.84719 | valid_MAE     0.84834 | grad_wrt_mu     0.09139 | grad_wrt_b_per_user     0.00135 | grad_wrt_c_per_item     0.00083 | grad_wrt_U     0.00000 | grad_wrt_V     0.00000\n",
      "epoch       0.756 | loss_total     1.08716 | train_MAE     0.86104 | valid_MAE     0.86532 | grad_wrt_mu     0.10610 | grad_wrt_b_per_user     0.00141 | grad_wrt_c_per_item     0.00086 | grad_wrt_U     0.00000 | grad_wrt_V     0.00000\n",
      "epoch       0.881 | loss_total     1.11366 | train_MAE     0.83875 | valid_MAE     0.84207 | grad_wrt_mu     0.04484 | grad_wrt_b_per_user     0.00145 | grad_wrt_c_per_item     0.00088 | grad_wrt_U     0.00000 | grad_wrt_V     0.00000\n",
      "epoch       1.000 | loss_total     1.09885 | train_MAE     0.84238 | valid_MAE     0.84667 | grad_wrt_mu     0.21933 | grad_wrt_b_per_user     0.00150 | grad_wrt_c_per_item     0.00088 | grad_wrt_U     0.00000 | grad_wrt_V     0.00000\n",
      "epoch       1.130 | loss_total     1.07508 | train_MAE     0.82487 | valid_MAE     0.82822 | grad_wrt_mu     0.10167 | grad_wrt_b_per_user     0.00142 | grad_wrt_c_per_item     0.00085 | grad_wrt_U     0.00000 | grad_wrt_V     0.00000\n",
      "epoch       1.254 | loss_total     1.01570 | train_MAE     0.81019 | valid_MAE     0.81235 | grad_wrt_mu     0.21348 | grad_wrt_b_per_user     0.00133 | grad_wrt_c_per_item     0.00083 | grad_wrt_U     0.00000 | grad_wrt_V     0.00000\n",
      "epoch       1.378 | loss_total     1.03577 | train_MAE     0.81585 | valid_MAE     0.81951 | grad_wrt_mu     0.14485 | grad_wrt_b_per_user     0.00144 | grad_wrt_c_per_item     0.00082 | grad_wrt_U     0.00000 | grad_wrt_V     0.00000\n",
      "epoch       1.502 | loss_total     0.95812 | train_MAE     0.80126 | valid_MAE     0.80377 | grad_wrt_mu     0.14641 | grad_wrt_b_per_user     0.00132 | grad_wrt_c_per_item     0.00079 | grad_wrt_U     0.00000 | grad_wrt_V     0.00000\n",
      "epoch       1.632 | loss_total     0.96876 | train_MAE     0.79547 | valid_MAE     0.79792 | grad_wrt_mu     0.15490 | grad_wrt_b_per_user     0.00135 | grad_wrt_c_per_item     0.00080 | grad_wrt_U     0.00000 | grad_wrt_V     0.00000\n",
      "epoch       1.756 | loss_total     0.94496 | train_MAE     0.79531 | valid_MAE     0.79869 | grad_wrt_mu     0.06025 | grad_wrt_b_per_user     0.00135 | grad_wrt_c_per_item     0.00075 | grad_wrt_U     0.00000 | grad_wrt_V     0.00000\n",
      "epoch       1.881 | loss_total     0.96125 | train_MAE     0.81727 | valid_MAE     0.82324 | grad_wrt_mu     0.38123 | grad_wrt_b_per_user     0.00135 | grad_wrt_c_per_item     0.00078 | grad_wrt_U     0.00000 | grad_wrt_V     0.00000\n",
      "epoch       2.000 | loss_total     0.86164 | train_MAE     0.78362 | valid_MAE     0.78486 | grad_wrt_mu     0.34009 | grad_wrt_b_per_user     0.00126 | grad_wrt_c_per_item     0.00072 | grad_wrt_U     0.00000 | grad_wrt_V     0.00000\n",
      "epoch       2.502 | loss_total     0.97320 | train_MAE     0.77420 | valid_MAE     0.77718 | grad_wrt_mu     0.04680 | grad_wrt_b_per_user     0.00128 | grad_wrt_c_per_item     0.00075 | grad_wrt_U     0.00000 | grad_wrt_V     0.00000\n",
      "epoch       3.000 | loss_total     0.95488 | train_MAE     0.77149 | valid_MAE     0.77598 | grad_wrt_mu     0.10987 | grad_wrt_b_per_user     0.00125 | grad_wrt_c_per_item     0.00072 | grad_wrt_U     0.00000 | grad_wrt_V     0.00000\n",
      "epoch       3.502 | loss_total     0.93941 | train_MAE     0.77810 | valid_MAE     0.78387 | grad_wrt_mu     0.21017 | grad_wrt_b_per_user     0.00130 | grad_wrt_c_per_item     0.00075 | grad_wrt_U     0.00000 | grad_wrt_V     0.00000\n",
      "epoch       4.000 | loss_total     0.92805 | train_MAE     0.75595 | valid_MAE     0.75784 | grad_wrt_mu     0.27112 | grad_wrt_b_per_user     0.00128 | grad_wrt_c_per_item     0.00072 | grad_wrt_U     0.00000 | grad_wrt_V     0.00000\n",
      "epoch       4.502 | loss_total     0.92482 | train_MAE     0.75189 | valid_MAE     0.75420 | grad_wrt_mu     0.07238 | grad_wrt_b_per_user     0.00134 | grad_wrt_c_per_item     0.00080 | grad_wrt_U     0.00000 | grad_wrt_V     0.00000\n",
      "epoch       5.000 | loss_total     0.91029 | train_MAE     0.75144 | valid_MAE     0.75579 | grad_wrt_mu     0.01505 | grad_wrt_b_per_user     0.00126 | grad_wrt_c_per_item     0.00074 | grad_wrt_U     0.00000 | grad_wrt_V     0.00000\n",
      "epoch       5.502 | loss_total     0.89931 | train_MAE     0.74592 | valid_MAE     0.74908 | grad_wrt_mu     0.18100 | grad_wrt_b_per_user     0.00117 | grad_wrt_c_per_item     0.00072 | grad_wrt_U     0.00000 | grad_wrt_V     0.00000\n",
      "epoch       6.000 | loss_total     0.90252 | train_MAE     0.74699 | valid_MAE     0.74883 | grad_wrt_mu     0.32045 | grad_wrt_b_per_user     0.00132 | grad_wrt_c_per_item     0.00076 | grad_wrt_U     0.00000 | grad_wrt_V     0.00000\n",
      "epoch       6.502 | loss_total     0.89925 | train_MAE     0.76142 | valid_MAE     0.76823 | grad_wrt_mu     0.23031 | grad_wrt_b_per_user     0.00124 | grad_wrt_c_per_item     0.00075 | grad_wrt_U     0.00000 | grad_wrt_V     0.00000\n",
      "epoch       7.000 | loss_total     0.89199 | train_MAE     0.73993 | valid_MAE     0.74368 | grad_wrt_mu     0.13870 | grad_wrt_b_per_user     0.00129 | grad_wrt_c_per_item     0.00076 | grad_wrt_U     0.00000 | grad_wrt_V     0.00000\n",
      "epoch       7.502 | loss_total     0.88990 | train_MAE     0.73865 | valid_MAE     0.74215 | grad_wrt_mu     0.29489 | grad_wrt_b_per_user     0.00131 | grad_wrt_c_per_item     0.00073 | grad_wrt_U     0.00000 | grad_wrt_V     0.00000\n",
      "epoch       8.000 | loss_total     0.88236 | train_MAE     0.73715 | valid_MAE     0.74156 | grad_wrt_mu     0.04401 | grad_wrt_b_per_user     0.00120 | grad_wrt_c_per_item     0.00070 | grad_wrt_U     0.00000 | grad_wrt_V     0.00000\n",
      "epoch       9.000 | loss_total     0.88026 | train_MAE     0.74669 | valid_MAE     0.74846 | grad_wrt_mu     0.52242 | grad_wrt_b_per_user     0.00124 | grad_wrt_c_per_item     0.00069 | grad_wrt_U     0.00000 | grad_wrt_V     0.00000\n",
      "epoch      10.000 | loss_total     0.87682 | train_MAE     0.74308 | valid_MAE     0.74535 | grad_wrt_mu     0.54940 | grad_wrt_b_per_user     0.00132 | grad_wrt_c_per_item     0.00078 | grad_wrt_U     0.00000 | grad_wrt_V     0.00000\n",
      "epoch      11.000 | loss_total     0.87007 | train_MAE     0.73891 | valid_MAE     0.74590 | grad_wrt_mu     0.12237 | grad_wrt_b_per_user     0.00134 | grad_wrt_c_per_item     0.00073 | grad_wrt_U     0.00000 | grad_wrt_V     0.00000\n",
      "epoch      12.000 | loss_total     0.87119 | train_MAE     0.76440 | valid_MAE     0.77374 | grad_wrt_mu     0.30252 | grad_wrt_b_per_user     0.00124 | grad_wrt_c_per_item     0.00073 | grad_wrt_U     0.00000 | grad_wrt_V     0.00000\n",
      "epoch      13.000 | loss_total     0.87181 | train_MAE     0.80864 | valid_MAE     0.81996 | grad_wrt_mu     0.79136 | grad_wrt_b_per_user     0.00149 | grad_wrt_c_per_item     0.00084 | grad_wrt_U     0.00000 | grad_wrt_V     0.00000\n",
      "epoch      14.000 | loss_total     0.86322 | train_MAE     0.73732 | valid_MAE     0.74013 | grad_wrt_mu     0.38405 | grad_wrt_b_per_user     0.00131 | grad_wrt_c_per_item     0.00076 | grad_wrt_U     0.00000 | grad_wrt_V     0.00000\n",
      "epoch      15.000 | loss_total     0.86066 | train_MAE     0.72724 | valid_MAE     0.73211 | grad_wrt_mu     0.09289 | grad_wrt_b_per_user     0.00114 | grad_wrt_c_per_item     0.00065 | grad_wrt_U     0.00000 | grad_wrt_V     0.00000\n",
      "epoch      16.000 | loss_total     0.86291 | train_MAE     0.72709 | valid_MAE     0.73224 | grad_wrt_mu     0.04969 | grad_wrt_b_per_user     0.00119 | grad_wrt_c_per_item     0.00071 | grad_wrt_U     0.00000 | grad_wrt_V     0.00000\n",
      "epoch      17.000 | loss_total     0.85921 | train_MAE     0.72693 | valid_MAE     0.73130 | grad_wrt_mu     0.31608 | grad_wrt_b_per_user     0.00125 | grad_wrt_c_per_item     0.00075 | grad_wrt_U     0.00000 | grad_wrt_V     0.00000\n",
      "epoch      18.000 | loss_total     0.85843 | train_MAE     0.74312 | valid_MAE     0.74538 | grad_wrt_mu     0.48115 | grad_wrt_b_per_user     0.00138 | grad_wrt_c_per_item     0.00076 | grad_wrt_U     0.00000 | grad_wrt_V     0.00000\n",
      "epoch      19.000 | loss_total     0.85728 | train_MAE     0.72835 | valid_MAE     0.73473 | grad_wrt_mu     0.07779 | grad_wrt_b_per_user     0.00110 | grad_wrt_c_per_item     0.00064 | grad_wrt_U     0.00000 | grad_wrt_V     0.00000\n",
      "epoch      20.000 | loss_total     0.85859 | train_MAE     0.72561 | valid_MAE     0.73018 | grad_wrt_mu     0.24308 | grad_wrt_b_per_user     0.00127 | grad_wrt_c_per_item     0.00072 | grad_wrt_U     0.00000 | grad_wrt_V     0.00000\n",
      "epoch      21.000 | loss_total     0.85454 | train_MAE     0.77701 | valid_MAE     0.78726 | grad_wrt_mu     0.55882 | grad_wrt_b_per_user     0.00126 | grad_wrt_c_per_item     0.00079 | grad_wrt_U     0.00000 | grad_wrt_V     0.00000\n",
      "epoch      22.000 | loss_total     0.85990 | train_MAE     0.80040 | valid_MAE     0.81181 | grad_wrt_mu     0.70571 | grad_wrt_b_per_user     0.00139 | grad_wrt_c_per_item     0.00078 | grad_wrt_U     0.00000 | grad_wrt_V     0.00000\n",
      "epoch      23.000 | loss_total     0.85658 | train_MAE     0.75478 | valid_MAE     0.76433 | grad_wrt_mu     0.41514 | grad_wrt_b_per_user     0.00129 | grad_wrt_c_per_item     0.00073 | grad_wrt_U     0.00000 | grad_wrt_V     0.00000\n",
      "epoch      24.000 | loss_total     0.85234 | train_MAE     0.74373 | valid_MAE     0.75239 | grad_wrt_mu     0.25044 | grad_wrt_b_per_user     0.00126 | grad_wrt_c_per_item     0.00074 | grad_wrt_U     0.00000 | grad_wrt_V     0.00000\n",
      "epoch      25.000 | loss_total     0.85207 | train_MAE     0.72926 | valid_MAE     0.73303 | grad_wrt_mu     0.34357 | grad_wrt_b_per_user     0.00111 | grad_wrt_c_per_item     0.00067 | grad_wrt_U     0.00000 | grad_wrt_V     0.00000\n",
      "epoch      26.000 | loss_total     0.85328 | train_MAE     0.72288 | valid_MAE     0.72852 | grad_wrt_mu     0.16432 | grad_wrt_b_per_user     0.00117 | grad_wrt_c_per_item     0.00067 | grad_wrt_U     0.00000 | grad_wrt_V     0.00000\n",
      "epoch      27.000 | loss_total     0.85379 | train_MAE     0.73394 | valid_MAE     0.73698 | grad_wrt_mu     0.58412 | grad_wrt_b_per_user     0.00122 | grad_wrt_c_per_item     0.00072 | grad_wrt_U     0.00000 | grad_wrt_V     0.00000\n",
      "epoch      28.000 | loss_total     0.85203 | train_MAE     0.72201 | valid_MAE     0.72748 | grad_wrt_mu     0.04975 | grad_wrt_b_per_user     0.00117 | grad_wrt_c_per_item     0.00070 | grad_wrt_U     0.00000 | grad_wrt_V     0.00000\n",
      "epoch      29.000 | loss_total     0.84869 | train_MAE     0.72685 | valid_MAE     0.73380 | grad_wrt_mu     0.07755 | grad_wrt_b_per_user     0.00124 | grad_wrt_c_per_item     0.00071 | grad_wrt_U     0.00000 | grad_wrt_V     0.00000\n",
      "epoch      30.000 | loss_total     0.85144 | train_MAE     0.75619 | valid_MAE     0.76566 | grad_wrt_mu     0.49558 | grad_wrt_b_per_user     0.00132 | grad_wrt_c_per_item     0.00081 | grad_wrt_U     0.00000 | grad_wrt_V     0.00000\n",
      "epoch      31.000 | loss_total     0.84979 | train_MAE     0.73992 | valid_MAE     0.74846 | grad_wrt_mu     0.16219 | grad_wrt_b_per_user     0.00126 | grad_wrt_c_per_item     0.00070 | grad_wrt_U     0.00000 | grad_wrt_V     0.00000\n",
      "epoch      32.000 | loss_total     0.85262 | train_MAE     0.74820 | valid_MAE     0.75733 | grad_wrt_mu     0.37457 | grad_wrt_b_per_user     0.00125 | grad_wrt_c_per_item     0.00075 | grad_wrt_U     0.00000 | grad_wrt_V     0.00000\n",
      "epoch      34.000 | loss_total     0.85111 | train_MAE     0.85792 | valid_MAE     0.87091 | grad_wrt_mu     0.88784 | grad_wrt_b_per_user     0.00142 | grad_wrt_c_per_item     0.00084 | grad_wrt_U     0.00000 | grad_wrt_V     0.00000\n",
      "epoch      36.000 | loss_total     0.85306 | train_MAE     0.77189 | valid_MAE     0.77239 | grad_wrt_mu     0.91989 | grad_wrt_b_per_user     0.00140 | grad_wrt_c_per_item     0.00083 | grad_wrt_U     0.00000 | grad_wrt_V     0.00000\n",
      "epoch      38.000 | loss_total     0.84809 | train_MAE     0.72424 | valid_MAE     0.72854 | grad_wrt_mu     0.39826 | grad_wrt_b_per_user     0.00129 | grad_wrt_c_per_item     0.00072 | grad_wrt_U     0.00000 | grad_wrt_V     0.00000\n",
      "epoch      40.000 | loss_total     0.85101 | train_MAE     0.74469 | valid_MAE     0.74654 | grad_wrt_mu     0.65015 | grad_wrt_b_per_user     0.00134 | grad_wrt_c_per_item     0.00077 | grad_wrt_U     0.00000 | grad_wrt_V     0.00000\n",
      "epoch      42.000 | loss_total     0.84577 | train_MAE     0.75178 | valid_MAE     0.76088 | grad_wrt_mu     0.33704 | grad_wrt_b_per_user     0.00127 | grad_wrt_c_per_item     0.00073 | grad_wrt_U     0.00000 | grad_wrt_V     0.00000\n",
      "epoch      44.000 | loss_total     0.84873 | train_MAE     0.73899 | valid_MAE     0.74715 | grad_wrt_mu     0.08944 | grad_wrt_b_per_user     0.00129 | grad_wrt_c_per_item     0.00068 | grad_wrt_U     0.00000 | grad_wrt_V     0.00000\n",
      "epoch      46.000 | loss_total     0.84601 | train_MAE     0.72150 | valid_MAE     0.72771 | grad_wrt_mu     0.01042 | grad_wrt_b_per_user     0.00120 | grad_wrt_c_per_item     0.00069 | grad_wrt_U     0.00000 | grad_wrt_V     0.00000\n",
      "epoch      48.000 | loss_total     0.84653 | train_MAE     0.75820 | valid_MAE     0.76754 | grad_wrt_mu     0.37919 | grad_wrt_b_per_user     0.00122 | grad_wrt_c_per_item     0.00072 | grad_wrt_U     0.00000 | grad_wrt_V     0.00000\n",
      "epoch      50.000 | loss_total     0.84988 | train_MAE     0.71950 | valid_MAE     0.72511 | grad_wrt_mu     0.00455 | grad_wrt_b_per_user     0.00117 | grad_wrt_c_per_item     0.00070 | grad_wrt_U     0.00000 | grad_wrt_V     0.00000\n",
      "epoch      52.000 | loss_total     0.84487 | train_MAE     0.73463 | valid_MAE     0.74248 | grad_wrt_mu     0.30072 | grad_wrt_b_per_user     0.00129 | grad_wrt_c_per_item     0.00072 | grad_wrt_U     0.00001 | grad_wrt_V     0.00000\n",
      "epoch      54.000 | loss_total     0.84871 | train_MAE     0.74115 | valid_MAE     0.74987 | grad_wrt_mu     0.18186 | grad_wrt_b_per_user     0.00133 | grad_wrt_c_per_item     0.00076 | grad_wrt_U     0.00001 | grad_wrt_V     0.00000\n",
      "epoch      56.000 | loss_total     0.84301 | train_MAE     0.75803 | valid_MAE     0.76746 | grad_wrt_mu     0.42438 | grad_wrt_b_per_user     0.00117 | grad_wrt_c_per_item     0.00071 | grad_wrt_U     0.00001 | grad_wrt_V     0.00000\n",
      "epoch      58.000 | loss_total     0.84542 | train_MAE     0.71731 | valid_MAE     0.72281 | grad_wrt_mu     0.06281 | grad_wrt_b_per_user     0.00119 | grad_wrt_c_per_item     0.00068 | grad_wrt_U     0.00001 | grad_wrt_V     0.00001\n",
      "epoch      60.000 | loss_total     0.84247 | train_MAE     0.76721 | valid_MAE     0.77693 | grad_wrt_mu     0.71074 | grad_wrt_b_per_user     0.00136 | grad_wrt_c_per_item     0.00080 | grad_wrt_U     0.00001 | grad_wrt_V     0.00001\n",
      "epoch      62.000 | loss_total     0.84219 | train_MAE     0.72564 | valid_MAE     0.73320 | grad_wrt_mu     0.25024 | grad_wrt_b_per_user     0.00125 | grad_wrt_c_per_item     0.00067 | grad_wrt_U     0.00001 | grad_wrt_V     0.00001\n",
      "epoch      64.000 | loss_total     0.83912 | train_MAE     0.71415 | valid_MAE     0.71995 | grad_wrt_mu     0.03273 | grad_wrt_b_per_user     0.00117 | grad_wrt_c_per_item     0.00065 | grad_wrt_U     0.00001 | grad_wrt_V     0.00001\n",
      "epoch      66.000 | loss_total     0.83663 | train_MAE     0.71418 | valid_MAE     0.72037 | grad_wrt_mu     0.14948 | grad_wrt_b_per_user     0.00117 | grad_wrt_c_per_item     0.00067 | grad_wrt_U     0.00001 | grad_wrt_V     0.00001\n",
      "epoch      68.000 | loss_total     0.83413 | train_MAE     0.71071 | valid_MAE     0.71632 | grad_wrt_mu     0.08240 | grad_wrt_b_per_user     0.00118 | grad_wrt_c_per_item     0.00070 | grad_wrt_U     0.00002 | grad_wrt_V     0.00001\n",
      "epoch      70.000 | loss_total     0.82805 | train_MAE     0.71076 | valid_MAE     0.71720 | grad_wrt_mu     0.11298 | grad_wrt_b_per_user     0.00117 | grad_wrt_c_per_item     0.00065 | grad_wrt_U     0.00002 | grad_wrt_V     0.00001\n",
      "epoch      72.000 | loss_total     0.82546 | train_MAE     0.72725 | valid_MAE     0.73605 | grad_wrt_mu     0.37239 | grad_wrt_b_per_user     0.00138 | grad_wrt_c_per_item     0.00078 | grad_wrt_U     0.00002 | grad_wrt_V     0.00001\n",
      "epoch      74.000 | loss_total     0.82297 | train_MAE     0.70263 | valid_MAE     0.70745 | grad_wrt_mu     0.24822 | grad_wrt_b_per_user     0.00117 | grad_wrt_c_per_item     0.00066 | grad_wrt_U     0.00002 | grad_wrt_V     0.00001\n",
      "epoch      76.000 | loss_total     0.81922 | train_MAE     0.70042 | valid_MAE     0.70552 | grad_wrt_mu     0.09614 | grad_wrt_b_per_user     0.00113 | grad_wrt_c_per_item     0.00066 | grad_wrt_U     0.00003 | grad_wrt_V     0.00001\n",
      "epoch      78.000 | loss_total     0.82004 | train_MAE     0.72162 | valid_MAE     0.73031 | grad_wrt_mu     0.28943 | grad_wrt_b_per_user     0.00125 | grad_wrt_c_per_item     0.00074 | grad_wrt_U     0.00003 | grad_wrt_V     0.00002\n",
      "epoch      80.000 | loss_total     0.81342 | train_MAE     0.69660 | valid_MAE     0.70182 | grad_wrt_mu     0.10633 | grad_wrt_b_per_user     0.00111 | grad_wrt_c_per_item     0.00067 | grad_wrt_U     0.00003 | grad_wrt_V     0.00002\n",
      "epoch      82.000 | loss_total     0.81271 | train_MAE     0.69463 | valid_MAE     0.70002 | grad_wrt_mu     0.08044 | grad_wrt_b_per_user     0.00115 | grad_wrt_c_per_item     0.00066 | grad_wrt_U     0.00003 | grad_wrt_V     0.00002\n",
      "epoch      84.000 | loss_total     0.80964 | train_MAE     0.69850 | valid_MAE     0.70530 | grad_wrt_mu     0.01183 | grad_wrt_b_per_user     0.00118 | grad_wrt_c_per_item     0.00070 | grad_wrt_U     0.00003 | grad_wrt_V     0.00002\n",
      "epoch      86.000 | loss_total     0.80787 | train_MAE     0.69565 | valid_MAE     0.69844 | grad_wrt_mu     0.40315 | grad_wrt_b_per_user     0.00120 | grad_wrt_c_per_item     0.00072 | grad_wrt_U     0.00003 | grad_wrt_V     0.00002\n",
      "epoch      88.000 | loss_total     0.80760 | train_MAE     0.72407 | valid_MAE     0.73391 | grad_wrt_mu     0.31326 | grad_wrt_b_per_user     0.00120 | grad_wrt_c_per_item     0.00066 | grad_wrt_U     0.00003 | grad_wrt_V     0.00002\n",
      "epoch      90.000 | loss_total     0.80393 | train_MAE     0.69457 | valid_MAE     0.69696 | grad_wrt_mu     0.30257 | grad_wrt_b_per_user     0.00119 | grad_wrt_c_per_item     0.00067 | grad_wrt_U     0.00003 | grad_wrt_V     0.00002\n",
      "epoch      92.000 | loss_total     0.80307 | train_MAE     0.68823 | valid_MAE     0.69439 | grad_wrt_mu     0.00450 | grad_wrt_b_per_user     0.00116 | grad_wrt_c_per_item     0.00067 | grad_wrt_U     0.00003 | grad_wrt_V     0.00002\n",
      "epoch      94.000 | loss_total     0.79825 | train_MAE     0.68616 | valid_MAE     0.69232 | grad_wrt_mu     0.01331 | grad_wrt_b_per_user     0.00119 | grad_wrt_c_per_item     0.00068 | grad_wrt_U     0.00003 | grad_wrt_V     0.00002\n",
      "epoch      96.000 | loss_total     0.79708 | train_MAE     0.69617 | valid_MAE     0.70443 | grad_wrt_mu     0.30960 | grad_wrt_b_per_user     0.00118 | grad_wrt_c_per_item     0.00066 | grad_wrt_U     0.00004 | grad_wrt_V     0.00002\n",
      "epoch      98.000 | loss_total     0.79654 | train_MAE     0.68248 | valid_MAE     0.68532 | grad_wrt_mu     0.38648 | grad_wrt_b_per_user     0.00122 | grad_wrt_c_per_item     0.00073 | grad_wrt_U     0.00004 | grad_wrt_V     0.00003\n",
      "epoch     100.000 | loss_total     0.79717 | train_MAE     0.67559 | valid_MAE     0.68028 | grad_wrt_mu     0.14589 | grad_wrt_b_per_user     0.00115 | grad_wrt_c_per_item     0.00067 | grad_wrt_U     0.00004 | grad_wrt_V     0.00003\n",
      "epoch     102.000 | loss_total     0.79192 | train_MAE     0.67976 | valid_MAE     0.68234 | grad_wrt_mu     0.54106 | grad_wrt_b_per_user     0.00124 | grad_wrt_c_per_item     0.00069 | grad_wrt_U     0.00004 | grad_wrt_V     0.00002\n",
      "epoch     104.000 | loss_total     0.78919 | train_MAE     0.68274 | valid_MAE     0.69026 | grad_wrt_mu     0.13552 | grad_wrt_b_per_user     0.00112 | grad_wrt_c_per_item     0.00061 | grad_wrt_U     0.00004 | grad_wrt_V     0.00002\n",
      "epoch     106.000 | loss_total     0.78550 | train_MAE     0.72197 | valid_MAE     0.72089 | grad_wrt_mu     0.61793 | grad_wrt_b_per_user     0.00121 | grad_wrt_c_per_item     0.00068 | grad_wrt_U     0.00004 | grad_wrt_V     0.00003\n",
      "epoch     108.000 | loss_total     0.78730 | train_MAE     0.72994 | valid_MAE     0.74165 | grad_wrt_mu     0.72199 | grad_wrt_b_per_user     0.00139 | grad_wrt_c_per_item     0.00079 | grad_wrt_U     0.00005 | grad_wrt_V     0.00003\n",
      "epoch     110.000 | loss_total     0.78158 | train_MAE     0.66483 | valid_MAE     0.66939 | grad_wrt_mu     0.11337 | grad_wrt_b_per_user     0.00112 | grad_wrt_c_per_item     0.00066 | grad_wrt_U     0.00004 | grad_wrt_V     0.00003\n",
      "epoch     112.000 | loss_total     0.78090 | train_MAE     0.68183 | valid_MAE     0.69062 | grad_wrt_mu     0.32564 | grad_wrt_b_per_user     0.00113 | grad_wrt_c_per_item     0.00067 | grad_wrt_U     0.00004 | grad_wrt_V     0.00003\n",
      "epoch     114.000 | loss_total     0.77752 | train_MAE     0.66869 | valid_MAE     0.67556 | grad_wrt_mu     0.08895 | grad_wrt_b_per_user     0.00108 | grad_wrt_c_per_item     0.00066 | grad_wrt_U     0.00005 | grad_wrt_V     0.00003\n",
      "epoch     116.000 | loss_total     0.77675 | train_MAE     0.66112 | valid_MAE     0.66454 | grad_wrt_mu     0.17240 | grad_wrt_b_per_user     0.00111 | grad_wrt_c_per_item     0.00070 | grad_wrt_U     0.00005 | grad_wrt_V     0.00003\n",
      "epoch     118.000 | loss_total     0.77681 | train_MAE     0.69703 | valid_MAE     0.70774 | grad_wrt_mu     0.43582 | grad_wrt_b_per_user     0.00120 | grad_wrt_c_per_item     0.00072 | grad_wrt_U     0.00005 | grad_wrt_V     0.00003\n",
      "epoch     120.000 | loss_total     0.77378 | train_MAE     0.67747 | valid_MAE     0.68704 | grad_wrt_mu     0.44154 | grad_wrt_b_per_user     0.00118 | grad_wrt_c_per_item     0.00066 | grad_wrt_U     0.00005 | grad_wrt_V     0.00003\n",
      "epoch     122.000 | loss_total     0.77183 | train_MAE     0.65446 | valid_MAE     0.66081 | grad_wrt_mu     0.00947 | grad_wrt_b_per_user     0.00101 | grad_wrt_c_per_item     0.00065 | grad_wrt_U     0.00005 | grad_wrt_V     0.00003\n",
      "epoch     124.000 | loss_total     0.76887 | train_MAE     0.68375 | valid_MAE     0.69438 | grad_wrt_mu     0.49177 | grad_wrt_b_per_user     0.00118 | grad_wrt_c_per_item     0.00067 | grad_wrt_U     0.00005 | grad_wrt_V     0.00003\n",
      "epoch     126.000 | loss_total     0.76845 | train_MAE     0.66424 | valid_MAE     0.67333 | grad_wrt_mu     0.33187 | grad_wrt_b_per_user     0.00107 | grad_wrt_c_per_item     0.00065 | grad_wrt_U     0.00005 | grad_wrt_V     0.00003\n",
      "epoch     128.000 | loss_total     0.76559 | train_MAE     0.64545 | valid_MAE     0.65031 | grad_wrt_mu     0.15233 | grad_wrt_b_per_user     0.00117 | grad_wrt_c_per_item     0.00061 | grad_wrt_U     0.00006 | grad_wrt_V     0.00003\n",
      "epoch     132.000 | loss_total     0.76093 | train_MAE     0.65093 | valid_MAE     0.65911 | grad_wrt_mu     0.01545 | grad_wrt_b_per_user     0.00114 | grad_wrt_c_per_item     0.00068 | grad_wrt_U     0.00005 | grad_wrt_V     0.00004\n",
      "epoch     136.000 | loss_total     0.75974 | train_MAE     0.64736 | valid_MAE     0.65041 | grad_wrt_mu     0.35636 | grad_wrt_b_per_user     0.00107 | grad_wrt_c_per_item     0.00063 | grad_wrt_U     0.00006 | grad_wrt_V     0.00004\n",
      "epoch     140.000 | loss_total     0.75590 | train_MAE     0.63224 | valid_MAE     0.63804 | grad_wrt_mu     0.03308 | grad_wrt_b_per_user     0.00103 | grad_wrt_c_per_item     0.00061 | grad_wrt_U     0.00006 | grad_wrt_V     0.00003\n",
      "epoch     144.000 | loss_total     0.75431 | train_MAE     0.65859 | valid_MAE     0.66956 | grad_wrt_mu     0.35773 | grad_wrt_b_per_user     0.00120 | grad_wrt_c_per_item     0.00070 | grad_wrt_U     0.00006 | grad_wrt_V     0.00004\n",
      "epoch     148.000 | loss_total     0.74671 | train_MAE     0.63028 | valid_MAE     0.63872 | grad_wrt_mu     0.11592 | grad_wrt_b_per_user     0.00108 | grad_wrt_c_per_item     0.00059 | grad_wrt_U     0.00006 | grad_wrt_V     0.00003\n",
      "epoch     152.000 | loss_total     0.74422 | train_MAE     0.66534 | valid_MAE     0.67717 | grad_wrt_mu     0.48758 | grad_wrt_b_per_user     0.00116 | grad_wrt_c_per_item     0.00067 | grad_wrt_U     0.00006 | grad_wrt_V     0.00004\n",
      "epoch     155.999 | loss_total     0.74458 | train_MAE     0.61549 | valid_MAE     0.62305 | grad_wrt_mu     0.19154 | grad_wrt_b_per_user     0.00138 | grad_wrt_c_per_item     0.00080 | grad_wrt_U     0.00012 | grad_wrt_V     0.00009\n"
     ]
    }
   ],
   "source": [
    "# Fit the model with SGD\n",
    "model.fit(all_data, valid_tuple, verbose=True)"
   ]
  },
  {
   "cell_type": "code",
   "execution_count": null,
   "metadata": {},
   "outputs": [],
   "source": []
  },
  {
   "cell_type": "code",
   "execution_count": 6,
   "metadata": {},
   "outputs": [],
   "source": [
    "import pandas as pd\n",
    "select_movies_df = pd.read_csv(\"./data_movie_lens_100k/ratings_masked_leaderboard_set.csv\")\n",
    "leaderboard_user_id = select_movies_df[\"user_id\"]\n",
    "leaderboard_item_id = select_movies_df[\"item_id\"]"
   ]
  },
  {
   "cell_type": "code",
   "execution_count": 7,
   "metadata": {},
   "outputs": [],
   "source": [
    "yhat = model.predict(leaderboard_user_id, leaderboard_item_id, model.param_dict['mu'],\n",
    "                     model.param_dict['b_per_user'], model.param_dict['c_per_item'],\n",
    "                     model.param_dict['U'], model.param_dict['V'])"
   ]
  },
  {
   "cell_type": "code",
   "execution_count": 8,
   "metadata": {},
   "outputs": [
    {
     "name": "stdout",
     "output_type": "stream",
     "text": [
      "[3.81991638 4.10182644 3.7061769  ... 4.20977093 3.15927242 2.59214874]\n",
      "             0\n",
      "0     3.819916\n",
      "1     4.101826\n",
      "2     3.706177\n",
      "3     3.388298\n",
      "4     4.224493\n",
      "...        ...\n",
      "9995  3.357994\n",
      "9996  4.216262\n",
      "9997  4.209771\n",
      "9998  3.159272\n",
      "9999  2.592149\n",
      "\n",
      "[10000 rows x 1 columns]\n"
     ]
    }
   ],
   "source": [
    "print(yhat)\n",
    "yhat_df = pd.DataFrame(yhat)\n",
    "print(yhat_df)\n",
    "yhat_df.to_csv(r'predicted_ratings_leaderboard.txt', header=None, index=None)"
   ]
  }
 ],
 "metadata": {
  "kernelspec": {
   "display_name": "Python 3",
   "language": "python",
   "name": "python3"
  },
  "language_info": {
   "codemirror_mode": {
    "name": "ipython",
    "version": 3
   },
   "file_extension": ".py",
   "mimetype": "text/x-python",
   "name": "python",
   "nbconvert_exporter": "python",
   "pygments_lexer": "ipython3",
   "version": "3.8.3"
  }
 },
 "nbformat": 4,
 "nbformat_minor": 4
}
