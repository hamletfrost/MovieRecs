{
 "cells": [
  {
   "cell_type": "code",
   "execution_count": 1,
   "metadata": {},
   "outputs": [],
   "source": [
    "import autograd.numpy as ag_np\n",
    "import matplotlib.pyplot as plt\n",
    "from AbstractBaseCollabFilterSGD import AbstractBaseCollabFilterSGD\n",
    "from train_valid_test_loader import load_train_valid_test_datasets\n",
    "\n",
    "from CollabFilterMeanOnly import CollabFilterMeanOnly"
   ]
  },
  {
   "cell_type": "code",
   "execution_count": 2,
   "metadata": {},
   "outputs": [],
   "source": [
    "# Load the dataset\n",
    "train_tuple, valid_tuple, test_tuple, n_users, n_items = \\\n",
    "    load_train_valid_test_datasets()"
   ]
  },
  {
   "cell_type": "code",
   "execution_count": 3,
   "metadata": {},
   "outputs": [],
   "source": [
    "# Create the model and initialize its parameters\n",
    "# to have right scale as the dataset (right num users and items)\n",
    "model = CollabFilterMeanOnly(\n",
    "    n_epochs=10, batch_size=10000, step_size=0.9)\n",
    "model.init_parameter_dict(n_users, n_items, train_tuple)"
   ]
  },
  {
   "cell_type": "code",
   "execution_count": 4,
   "metadata": {},
   "outputs": [
    {
     "name": "stdout",
     "output_type": "stream",
     "text": [
      "epoch       0.000 | loss_total    13.63800 | train_MAE     3.53059 | valid_MAE     3.54504 | grad_wrt_mu     7.03040\n",
      "epoch       0.143 | loss_total     9.00676 | train_MAE     2.79677 | valid_MAE     2.78232 | grad_wrt_mu     5.56672\n",
      "epoch       0.286 | loss_total     6.19737 | train_MAE     2.25221 | valid_MAE     2.26488 | grad_wrt_mu     4.43898\n",
      "epoch       0.429 | loss_total     4.54985 | train_MAE     1.78180 | valid_MAE     1.76735 | grad_wrt_mu     3.60298\n",
      "epoch       0.571 | loss_total     3.37933 | train_MAE     1.60794 | valid_MAE     1.61653 | grad_wrt_mu     2.90798\n",
      "epoch       0.714 | loss_total     2.57100 | train_MAE     1.28893 | valid_MAE     1.27767 | grad_wrt_mu     2.30359\n",
      "epoch       0.857 | loss_total     2.11779 | train_MAE     1.25400 | valid_MAE     1.26072 | grad_wrt_mu     1.86947\n",
      "epoch       1.000 | loss_total     1.86581 | train_MAE     1.06372 | valid_MAE     1.05643 | grad_wrt_mu     1.53498\n",
      "epoch       1.143 | loss_total     1.63904 | train_MAE     1.05811 | valid_MAE     1.06380 | grad_wrt_mu     1.24418\n",
      "epoch       1.286 | loss_total     1.51104 | train_MAE     0.91286 | valid_MAE     0.90823 | grad_wrt_mu     1.00454\n",
      "epoch       1.429 | loss_total     1.41442 | train_MAE     0.98832 | valid_MAE     0.99245 | grad_wrt_mu     0.81284\n",
      "epoch       1.571 | loss_total     1.40236 | train_MAE     0.90812 | valid_MAE     0.90518 | grad_wrt_mu     0.65747\n",
      "epoch       1.714 | loss_total     1.34809 | train_MAE     0.97299 | valid_MAE     0.97577 | grad_wrt_mu     0.47997\n",
      "epoch       1.857 | loss_total     1.27704 | train_MAE     0.92563 | valid_MAE     0.92424 | grad_wrt_mu     0.33198\n",
      "epoch       2.000 | loss_total     1.28377 | train_MAE     0.95839 | valid_MAE     0.95988 | grad_wrt_mu     0.26818\n",
      "epoch       2.571 | loss_total     1.29153 | train_MAE     0.94871 | valid_MAE     0.94935 | grad_wrt_mu     0.06020\n",
      "epoch       3.000 | loss_total     1.27349 | train_MAE     0.94666 | valid_MAE     0.94712 | grad_wrt_mu     0.00058\n",
      "epoch       3.571 | loss_total     1.26580 | train_MAE     0.93913 | valid_MAE     0.93892 | grad_wrt_mu     0.09145\n",
      "epoch       4.000 | loss_total     1.26472 | train_MAE     0.94686 | valid_MAE     0.94733 | grad_wrt_mu     0.04643\n",
      "epoch       4.571 | loss_total     1.26644 | train_MAE     0.94264 | valid_MAE     0.94274 | grad_wrt_mu     0.02476\n",
      "epoch       5.000 | loss_total     1.26927 | train_MAE     0.94564 | valid_MAE     0.94601 | grad_wrt_mu     0.02996\n",
      "epoch       5.571 | loss_total     1.26517 | train_MAE     0.94691 | valid_MAE     0.94739 | grad_wrt_mu     0.02771\n",
      "epoch       6.000 | loss_total     1.27096 | train_MAE     0.94810 | valid_MAE     0.94868 | grad_wrt_mu     0.06719\n",
      "epoch       6.571 | loss_total     1.26981 | train_MAE     0.94386 | valid_MAE     0.94407 | grad_wrt_mu     0.05094\n",
      "epoch       7.000 | loss_total     1.26451 | train_MAE     0.94564 | valid_MAE     0.94601 | grad_wrt_mu     0.03198\n",
      "epoch       7.571 | loss_total     1.26796 | train_MAE     0.94488 | valid_MAE     0.94518 | grad_wrt_mu     0.02637\n",
      "epoch       8.000 | loss_total     1.26734 | train_MAE     0.94650 | valid_MAE     0.94694 | grad_wrt_mu     0.05424\n",
      "epoch       9.000 | loss_total     1.27329 | train_MAE     0.93880 | valid_MAE     0.93857 | grad_wrt_mu     0.09319\n",
      "epoch       9.857 | loss_total     1.26785 | train_MAE     0.94343 | valid_MAE     0.94360 | grad_wrt_mu     0.01533\n"
     ]
    }
   ],
   "source": [
    "# Fit the model with SGD\n",
    "model.fit(train_tuple, valid_tuple)"
   ]
  },
  {
   "cell_type": "code",
   "execution_count": 5,
   "metadata": {},
   "outputs": [
    {
     "data": {
      "text/plain": [
       "(0.8, 2.3)"
      ]
     },
     "execution_count": 5,
     "metadata": {},
     "output_type": "execute_result"
    },
    {
     "data": {
      "image/png": "[encoded data removed]",
      "text/plain": [
       "<Figure size 432x288 with 1 Axes>"
      ]
     },
     "metadata": {
      "needs_background": "light"
     },
     "output_type": "display_data"
    }
   ],
   "source": [
    "plt.plot(model.trace_epoch, model.trace_mae_train, '.:')\n",
    "plt.plot(model.trace_epoch, model.trace_mae_valid, '.-')\n",
    "plt.ylim(0.8, 2.3)"
   ]
  },
  {
   "cell_type": "code",
   "execution_count": 6,
   "metadata": {},
   "outputs": [],
   "source": [
    "# Create the model and initialize its parameters\n",
    "# to have right scale as the dataset (right num users and items)\n",
    "model = CollabFilterMeanOnly(\n",
    "    n_epochs=10, batch_size=100, step_size=0.9)\n",
    "model.init_parameter_dict(n_users, n_items, train_tuple)"
   ]
  },
  {
   "cell_type": "code",
   "execution_count": 7,
   "metadata": {},
   "outputs": [
    {
     "name": "stdout",
     "output_type": "stream",
     "text": [
      "epoch       0.000 | loss_total    13.41000 | train_MAE     3.53059 | valid_MAE     3.54504 | grad_wrt_mu     7.02000\n",
      "epoch       0.001 | loss_total     8.53116 | train_MAE     2.78741 | valid_MAE     2.77296 | grad_wrt_mu     5.41600\n",
      "epoch       0.003 | loss_total     5.80668 | train_MAE     2.14142 | valid_MAE     2.15338 | grad_wrt_mu     4.25280\n",
      "epoch       0.004 | loss_total     4.11602 | train_MAE     1.74053 | valid_MAE     1.72608 | grad_wrt_mu     3.50224\n",
      "epoch       0.126 | loss_total     1.61819 | train_MAE     0.99776 | valid_MAE     1.00272 | grad_wrt_mu     1.35143\n",
      "epoch       0.250 | loss_total     1.40304 | train_MAE     0.89460 | valid_MAE     0.89030 | grad_wrt_mu     1.08561\n",
      "epoch       0.376 | loss_total     1.27648 | train_MAE     0.96717 | valid_MAE     0.96944 | grad_wrt_mu     0.21339\n",
      "epoch       0.500 | loss_total     1.60860 | train_MAE     0.97546 | valid_MAE     0.97846 | grad_wrt_mu     0.48457\n",
      "epoch       0.626 | loss_total     0.87880 | train_MAE     0.95924 | valid_MAE     0.96081 | grad_wrt_mu     0.18868\n",
      "epoch       0.750 | loss_total     1.24752 | train_MAE     0.92039 | valid_MAE     0.91853 | grad_wrt_mu     0.24013\n",
      "epoch       0.876 | loss_total     1.78068 | train_MAE     0.89378 | valid_MAE     0.88957 | grad_wrt_mu     1.28558\n",
      "epoch       1.000 | loss_total     1.35216 | train_MAE     0.95410 | valid_MAE     0.95522 | grad_wrt_mu     0.09497\n",
      "epoch       1.126 | loss_total     1.06429 | train_MAE     0.91419 | valid_MAE     0.91178 | grad_wrt_mu     0.35320\n",
      "epoch       1.250 | loss_total     1.08707 | train_MAE     0.93258 | valid_MAE     0.93179 | grad_wrt_mu     0.11774\n",
      "epoch       1.376 | loss_total     1.34680 | train_MAE     0.97183 | valid_MAE     0.97450 | grad_wrt_mu     0.47833\n",
      "epoch       1.500 | loss_total     1.28476 | train_MAE     0.96043 | valid_MAE     0.96210 | grad_wrt_mu     0.59045\n",
      "epoch       1.626 | loss_total     1.43242 | train_MAE     0.94973 | valid_MAE     0.95046 | grad_wrt_mu     0.15522\n",
      "epoch       1.750 | loss_total     1.67024 | train_MAE     1.06185 | valid_MAE     1.06755 | grad_wrt_mu     1.30206\n",
      "epoch       1.876 | loss_total     1.27622 | train_MAE     0.92908 | valid_MAE     0.92799 | grad_wrt_mu     0.44145\n",
      "epoch       2.000 | loss_total     1.56227 | train_MAE     1.02032 | valid_MAE     1.01380 | grad_wrt_mu     1.18181\n",
      "epoch       2.500 | loss_total     1.38145 | train_MAE     0.93608 | valid_MAE     0.93560 | grad_wrt_mu     0.06610\n",
      "epoch       3.000 | loss_total     1.37668 | train_MAE     0.99290 | valid_MAE     0.99744 | grad_wrt_mu     0.92284\n",
      "epoch       3.500 | loss_total     1.39907 | train_MAE     1.00707 | valid_MAE     1.00078 | grad_wrt_mu     1.25583\n",
      "epoch       4.000 | loss_total     1.39603 | train_MAE     0.98518 | valid_MAE     0.98904 | grad_wrt_mu     0.82198\n",
      "epoch       4.500 | loss_total     1.37959 | train_MAE     0.94132 | valid_MAE     0.94131 | grad_wrt_mu     0.38176\n",
      "epoch       5.000 | loss_total     1.38752 | train_MAE     0.99933 | valid_MAE     1.00443 | grad_wrt_mu     1.16006\n",
      "epoch       5.500 | loss_total     1.38646 | train_MAE     0.94010 | valid_MAE     0.93998 | grad_wrt_mu     0.27959\n",
      "epoch       6.000 | loss_total     1.36438 | train_MAE     0.96269 | valid_MAE     0.96456 | grad_wrt_mu     0.59166\n",
      "epoch       6.500 | loss_total     1.37195 | train_MAE     0.94100 | valid_MAE     0.94095 | grad_wrt_mu     0.11586\n",
      "epoch       7.000 | loss_total     1.39082 | train_MAE     0.94092 | valid_MAE     0.94088 | grad_wrt_mu     0.13455\n",
      "epoch       7.500 | loss_total     1.38353 | train_MAE     0.89321 | valid_MAE     0.88893 | grad_wrt_mu     1.08077\n",
      "epoch       8.000 | loss_total     1.37522 | train_MAE     0.91512 | valid_MAE     0.91279 | grad_wrt_mu     0.17626\n",
      "epoch       9.000 | loss_total     1.38136 | train_MAE     0.90141 | valid_MAE     0.89787 | grad_wrt_mu     0.96640\n",
      "epoch       9.999 | loss_total     1.42638 | train_MAE     0.94133 | valid_MAE     0.94132 | grad_wrt_mu     0.36199\n"
     ]
    }
   ],
   "source": [
    "# Fit the model with SGD\n",
    "model.fit(train_tuple, valid_tuple)"
   ]
  },
  {
   "cell_type": "code",
   "execution_count": 8,
   "metadata": {},
   "outputs": [
    {
     "data": {
      "text/plain": [
       "(0.8, 2.3)"
      ]
     },
     "execution_count": 8,
     "metadata": {},
     "output_type": "execute_result"
    },
    {
     "data": {
      "image/png": "[encoded data removed]",
      "text/plain": [
       "<Figure size 432x288 with 1 Axes>"
      ]
     },
     "metadata": {
      "needs_background": "light"
     },
     "output_type": "display_data"
    }
   ],
   "source": [
    "plt.plot(model.trace_epoch, model.trace_mae_train, '.:')\n",
    "plt.plot(model.trace_epoch, model.trace_mae_valid, '.-')\n",
    "plt.ylim(0.8, 2.3)"
   ]
  }
 ],
 "metadata": {
  "kernelspec": {
   "display_name": "Python 3",
   "language": "python",
   "name": "python3"
  },
  "language_info": {
   "codemirror_mode": {
    "name": "ipython",
    "version": 3
   },
   "file_extension": ".py",
   "mimetype": "text/x-python",
   "name": "python",
   "nbconvert_exporter": "python",
   "pygments_lexer": "ipython3",
   "version": "3.8.3"
  }
 },
 "nbformat": 4,
 "nbformat_minor": 4
}
