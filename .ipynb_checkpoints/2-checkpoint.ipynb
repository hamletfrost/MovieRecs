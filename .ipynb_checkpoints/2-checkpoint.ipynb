{
 "cells": [
  {
   "cell_type": "code",
   "execution_count": 1,
   "metadata": {},
   "outputs": [],
   "source": [
    "import autograd.numpy as ag_np\n",
    "import matplotlib.pyplot as plt\n",
    "from AbstractBaseCollabFilterSGD import AbstractBaseCollabFilterSGD\n",
    "from train_valid_test_loader import load_train_valid_test_datasets\n",
    "\n",
    "from CollabFilterOneScalarPerItem import CollabFilterOneScalarPerItem"
   ]
  },
  {
   "cell_type": "code",
   "execution_count": 2,
   "metadata": {},
   "outputs": [],
   "source": [
    "# Load the dataset\n",
    "train_tuple, valid_tuple, test_tuple, n_users, n_items = \\\n",
    "    load_train_valid_test_datasets()"
   ]
  },
  {
   "cell_type": "code",
   "execution_count": 3,
   "metadata": {},
   "outputs": [],
   "source": [
    "# Create the model and initialize its parameters\n",
    "# to have right scale as the dataset (right num users and items)\n",
    "model = CollabFilterOneScalarPerItem(\n",
    "    n_epochs=10, batch_size=10000, step_size=0.9)\n",
    "model.init_parameter_dict(n_users, n_items, train_tuple)"
   ]
  },
  {
   "cell_type": "code",
   "execution_count": 4,
   "metadata": {},
   "outputs": [
    {
     "name": "stdout",
     "output_type": "stream",
     "text": [
      "epoch       0.000 | loss_total    13.63800 | train_MAE     3.53059 | valid_MAE     3.54504 | grad_wrt_mu     7.03040 | grad_wrt_b_per_user     0.00746 | grad_wrt_c_per_item     0.00418\n",
      "epoch       0.143 | loss_total     9.13443 | train_MAE     2.82031 | valid_MAE     2.80560 | grad_wrt_mu     5.61376 | grad_wrt_b_per_user     0.00595 | grad_wrt_c_per_item     0.00334\n",
      "epoch       0.286 | loss_total     6.35903 | train_MAE     2.28413 | valid_MAE     2.29720 | grad_wrt_mu     4.51402 | grad_wrt_b_per_user     0.00479 | grad_wrt_c_per_item     0.00269\n",
      "epoch       0.429 | loss_total     4.70411 | train_MAE     1.82713 | valid_MAE     1.81252 | grad_wrt_mu     3.69320 | grad_wrt_b_per_user     0.00392 | grad_wrt_c_per_item     0.00220\n",
      "epoch       0.571 | loss_total     3.50941 | train_MAE     1.63587 | valid_MAE     1.64502 | grad_wrt_mu     3.00422 | grad_wrt_b_per_user     0.00321 | grad_wrt_c_per_item     0.00181\n",
      "epoch       0.714 | loss_total     2.67062 | train_MAE     1.31310 | valid_MAE     1.30157 | grad_wrt_mu     2.40185 | grad_wrt_b_per_user     0.00255 | grad_wrt_c_per_item     0.00143\n",
      "epoch       0.857 | loss_total     2.19096 | train_MAE     1.27979 | valid_MAE     1.28730 | grad_wrt_mu     1.96479 | grad_wrt_b_per_user     0.00217 | grad_wrt_c_per_item     0.00124\n",
      "epoch       1.000 | loss_total     1.91337 | train_MAE     1.08431 | valid_MAE     1.07693 | grad_wrt_mu     1.62497 | grad_wrt_b_per_user     0.00177 | grad_wrt_c_per_item     0.00098\n",
      "epoch       1.143 | loss_total     1.66748 | train_MAE     1.07817 | valid_MAE     1.08485 | grad_wrt_mu     1.32672 | grad_wrt_b_per_user     0.00155 | grad_wrt_c_per_item     0.00093\n",
      "epoch       1.286 | loss_total     1.52361 | train_MAE     0.92784 | valid_MAE     0.92337 | grad_wrt_mu     1.08020 | grad_wrt_b_per_user     0.00128 | grad_wrt_c_per_item     0.00073\n",
      "epoch       1.429 | loss_total     1.41275 | train_MAE     0.98084 | valid_MAE     0.98618 | grad_wrt_mu     0.88002 | grad_wrt_b_per_user     0.00122 | grad_wrt_c_per_item     0.00074\n",
      "epoch       1.571 | loss_total     1.38937 | train_MAE     0.89239 | valid_MAE     0.89010 | grad_wrt_mu     0.71716 | grad_wrt_b_per_user     0.00104 | grad_wrt_c_per_item     0.00062\n",
      "epoch       1.714 | loss_total     1.32393 | train_MAE     0.96236 | valid_MAE     0.96644 | grad_wrt_mu     0.53327 | grad_wrt_b_per_user     0.00098 | grad_wrt_c_per_item     0.00066\n",
      "epoch       1.857 | loss_total     1.24763 | train_MAE     0.90838 | valid_MAE     0.90790 | grad_wrt_mu     0.38001 | grad_wrt_b_per_user     0.00087 | grad_wrt_c_per_item     0.00055\n",
      "epoch       2.000 | loss_total     1.24627 | train_MAE     0.94498 | valid_MAE     0.94789 | grad_wrt_mu     0.31008 | grad_wrt_b_per_user     0.00090 | grad_wrt_c_per_item     0.00060\n",
      "epoch       2.571 | loss_total     1.25280 | train_MAE     0.93025 | valid_MAE     0.93261 | grad_wrt_mu     0.08675 | grad_wrt_b_per_user     0.00084 | grad_wrt_c_per_item     0.00057\n",
      "epoch       3.000 | loss_total     1.22272 | train_MAE     0.92302 | valid_MAE     0.92525 | grad_wrt_mu     0.01153 | grad_wrt_b_per_user     0.00082 | grad_wrt_c_per_item     0.00054\n",
      "epoch       3.571 | loss_total     1.20348 | train_MAE     0.91198 | valid_MAE     0.91392 | grad_wrt_mu     0.09493 | grad_wrt_b_per_user     0.00081 | grad_wrt_c_per_item     0.00052\n",
      "epoch       4.000 | loss_total     1.19539 | train_MAE     0.91702 | valid_MAE     0.91992 | grad_wrt_mu     0.04752 | grad_wrt_b_per_user     0.00080 | grad_wrt_c_per_item     0.00053\n",
      "epoch       4.571 | loss_total     1.18721 | train_MAE     0.90900 | valid_MAE     0.91182 | grad_wrt_mu     0.02522 | grad_wrt_b_per_user     0.00078 | grad_wrt_c_per_item     0.00052\n",
      "epoch       5.000 | loss_total     1.18376 | train_MAE     0.90919 | valid_MAE     0.91255 | grad_wrt_mu     0.03165 | grad_wrt_b_per_user     0.00078 | grad_wrt_c_per_item     0.00052\n",
      "epoch       5.571 | loss_total     1.17078 | train_MAE     0.90696 | valid_MAE     0.91075 | grad_wrt_mu     0.02803 | grad_wrt_b_per_user     0.00079 | grad_wrt_c_per_item     0.00051\n",
      "epoch       6.000 | loss_total     1.16940 | train_MAE     0.90516 | valid_MAE     0.90925 | grad_wrt_mu     0.06411 | grad_wrt_b_per_user     0.00079 | grad_wrt_c_per_item     0.00053\n",
      "epoch       6.571 | loss_total     1.16055 | train_MAE     0.89773 | valid_MAE     0.90174 | grad_wrt_mu     0.04693 | grad_wrt_b_per_user     0.00078 | grad_wrt_c_per_item     0.00050\n",
      "epoch       7.000 | loss_total     1.15114 | train_MAE     0.89662 | valid_MAE     0.90099 | grad_wrt_mu     0.02785 | grad_wrt_b_per_user     0.00074 | grad_wrt_c_per_item     0.00050\n",
      "epoch       7.571 | loss_total     1.14703 | train_MAE     0.89307 | valid_MAE     0.89767 | grad_wrt_mu     0.02897 | grad_wrt_b_per_user     0.00074 | grad_wrt_c_per_item     0.00053\n",
      "epoch       8.000 | loss_total     1.13959 | train_MAE     0.89175 | valid_MAE     0.89666 | grad_wrt_mu     0.04540 | grad_wrt_b_per_user     0.00073 | grad_wrt_c_per_item     0.00049\n",
      "epoch       9.000 | loss_total     1.13409 | train_MAE     0.87867 | valid_MAE     0.88337 | grad_wrt_mu     0.09596 | grad_wrt_b_per_user     0.00074 | grad_wrt_c_per_item     0.00048\n",
      "epoch       9.857 | loss_total     1.11995 | train_MAE     0.87891 | valid_MAE     0.88440 | grad_wrt_mu     0.01118 | grad_wrt_b_per_user     0.00071 | grad_wrt_c_per_item     0.00047\n"
     ]
    }
   ],
   "source": [
    "# Fit the model with SGD\n",
    "model.fit(train_tuple, valid_tuple)"
   ]
  },
  {
   "cell_type": "code",
   "execution_count": 5,
   "metadata": {},
   "outputs": [
    {
     "data": {
      "text/plain": [
       "(0.8, 2.3)"
      ]
     },
     "execution_count": 5,
     "metadata": {},
     "output_type": "execute_result"
    },
    {
     "data": {
      "image/png": "[encoded data removed]",
      "text/plain": [
       "<Figure size 432x288 with 1 Axes>"
      ]
     },
     "metadata": {
      "needs_background": "light"
     },
     "output_type": "display_data"
    }
   ],
   "source": [
    "plt.plot(model.trace_epoch, model.trace_mae_train, '.:')\n",
    "plt.plot(model.trace_epoch, model.trace_mae_valid, '.-')\n",
    "plt.ylim(0.8, 2.3)"
   ]
  },
  {
   "cell_type": "code",
   "execution_count": 6,
   "metadata": {},
   "outputs": [],
   "source": [
    "# Create the model and initialize its parameters\n",
    "# to have right scale as the dataset (right num users and items)\n",
    "model = CollabFilterOneScalarPerItem(\n",
    "    n_epochs=10, batch_size=100, step_size=0.9)\n",
    "model.init_parameter_dict(n_users, n_items, train_tuple)"
   ]
  },
  {
   "cell_type": "code",
   "execution_count": 7,
   "metadata": {},
   "outputs": [
    {
     "name": "stdout",
     "output_type": "stream",
     "text": [
      "epoch       0.000 | loss_total    13.41000 | train_MAE     3.53059 | valid_MAE     3.54504 | grad_wrt_mu     7.02000 | grad_wrt_b_per_user     0.00744 | grad_wrt_c_per_item     0.00417\n",
      "epoch       0.001 | loss_total     8.66286 | train_MAE     2.80935 | valid_MAE     2.79429 | grad_wrt_mu     5.46460 | grad_wrt_b_per_user     0.00579 | grad_wrt_c_per_item     0.00325\n",
      "epoch       0.003 | loss_total     6.00427 | train_MAE     2.17492 | valid_MAE     2.18805 | grad_wrt_mu     4.34096 | grad_wrt_b_per_user     0.00472 | grad_wrt_c_per_item     0.00264\n",
      "epoch       0.004 | loss_total     4.33207 | train_MAE     1.79326 | valid_MAE     1.77775 | grad_wrt_mu     3.61827 | grad_wrt_b_per_user     0.00384 | grad_wrt_c_per_item     0.00215\n",
      "epoch       0.126 | loss_total     1.37272 | train_MAE     0.94858 | valid_MAE     0.95947 | grad_wrt_mu     1.26422 | grad_wrt_b_per_user     0.00201 | grad_wrt_c_per_item     0.00113\n",
      "epoch       0.250 | loss_total     1.10675 | train_MAE     0.87203 | valid_MAE     0.87360 | grad_wrt_mu     1.11210 | grad_wrt_b_per_user     0.00163 | grad_wrt_c_per_item     0.00094\n",
      "epoch       0.376 | loss_total     1.17081 | train_MAE     0.80778 | valid_MAE     0.81980 | grad_wrt_mu     0.01096 | grad_wrt_b_per_user     0.00180 | grad_wrt_c_per_item     0.00104\n",
      "epoch       0.500 | loss_total     1.22562 | train_MAE     0.81567 | valid_MAE     0.83077 | grad_wrt_mu     0.32082 | grad_wrt_b_per_user     0.00176 | grad_wrt_c_per_item     0.00100\n",
      "epoch       0.626 | loss_total     0.69552 | train_MAE     0.79128 | valid_MAE     0.80777 | grad_wrt_mu     0.21506 | grad_wrt_b_per_user     0.00139 | grad_wrt_c_per_item     0.00074\n",
      "epoch       0.750 | loss_total     0.99987 | train_MAE     0.77905 | valid_MAE     0.79049 | grad_wrt_mu     0.46039 | grad_wrt_b_per_user     0.00158 | grad_wrt_c_per_item     0.00091\n",
      "epoch       0.876 | loss_total     1.59566 | train_MAE     0.86950 | valid_MAE     0.87874 | grad_wrt_mu     1.56223 | grad_wrt_b_per_user     0.00208 | grad_wrt_c_per_item     0.00116\n",
      "epoch       1.000 | loss_total     0.96732 | train_MAE     0.76973 | valid_MAE     0.79065 | grad_wrt_mu     0.04792 | grad_wrt_b_per_user     0.00158 | grad_wrt_c_per_item     0.00081\n",
      "epoch       1.126 | loss_total     0.72948 | train_MAE     0.75656 | valid_MAE     0.77032 | grad_wrt_mu     0.24802 | grad_wrt_b_per_user     0.00138 | grad_wrt_c_per_item     0.00074\n",
      "epoch       1.250 | loss_total     0.87824 | train_MAE     0.74680 | valid_MAE     0.76278 | grad_wrt_mu     0.22527 | grad_wrt_b_per_user     0.00149 | grad_wrt_c_per_item     0.00085\n",
      "epoch       1.376 | loss_total     1.05525 | train_MAE     0.85088 | valid_MAE     0.87555 | grad_wrt_mu     0.82466 | grad_wrt_b_per_user     0.00175 | grad_wrt_c_per_item     0.00097\n",
      "epoch       1.500 | loss_total     0.77692 | train_MAE     0.74686 | valid_MAE     0.76838 | grad_wrt_mu     0.17743 | grad_wrt_b_per_user     0.00147 | grad_wrt_c_per_item     0.00084\n",
      "epoch       1.626 | loss_total     1.19109 | train_MAE     0.82416 | valid_MAE     0.84881 | grad_wrt_mu     0.83756 | grad_wrt_b_per_user     0.00184 | grad_wrt_c_per_item     0.00102\n",
      "epoch       1.750 | loss_total     1.14763 | train_MAE     0.84844 | valid_MAE     0.87507 | grad_wrt_mu     0.96352 | grad_wrt_b_per_user     0.00168 | grad_wrt_c_per_item     0.00099\n",
      "epoch       1.876 | loss_total     0.94630 | train_MAE     0.73895 | valid_MAE     0.75782 | grad_wrt_mu     0.42198 | grad_wrt_b_per_user     0.00155 | grad_wrt_c_per_item     0.00084\n",
      "epoch       2.000 | loss_total     0.73961 | train_MAE     0.79857 | valid_MAE     0.81277 | grad_wrt_mu     0.61778 | grad_wrt_b_per_user     0.00135 | grad_wrt_c_per_item     0.00077\n",
      "epoch       2.500 | loss_total     0.97231 | train_MAE     0.76904 | valid_MAE     0.79845 | grad_wrt_mu     0.63335 | grad_wrt_b_per_user     0.00168 | grad_wrt_c_per_item     0.00096\n",
      "epoch       3.000 | loss_total     0.96366 | train_MAE     0.87234 | valid_MAE     0.90078 | grad_wrt_mu     0.98583 | grad_wrt_b_per_user     0.00176 | grad_wrt_c_per_item     0.00097\n",
      "epoch       3.500 | loss_total     0.95324 | train_MAE     0.76140 | valid_MAE     0.78078 | grad_wrt_mu     0.61797 | grad_wrt_b_per_user     0.00132 | grad_wrt_c_per_item     0.00077\n",
      "epoch       4.000 | loss_total     0.93787 | train_MAE     0.78184 | valid_MAE     0.81311 | grad_wrt_mu     0.52654 | grad_wrt_b_per_user     0.00148 | grad_wrt_c_per_item     0.00089\n",
      "epoch       4.500 | loss_total     0.93224 | train_MAE     0.77589 | valid_MAE     0.79467 | grad_wrt_mu     0.28285 | grad_wrt_b_per_user     0.00125 | grad_wrt_c_per_item     0.00070\n",
      "epoch       5.000 | loss_total     0.93988 | train_MAE     0.75603 | valid_MAE     0.78781 | grad_wrt_mu     0.69451 | grad_wrt_b_per_user     0.00153 | grad_wrt_c_per_item     0.00090\n",
      "epoch       5.500 | loss_total     0.93555 | train_MAE     0.73268 | valid_MAE     0.76261 | grad_wrt_mu     0.38075 | grad_wrt_b_per_user     0.00145 | grad_wrt_c_per_item     0.00083\n",
      "epoch       6.000 | loss_total     0.92311 | train_MAE     0.74464 | valid_MAE     0.77540 | grad_wrt_mu     0.40915 | grad_wrt_b_per_user     0.00140 | grad_wrt_c_per_item     0.00078\n",
      "epoch       6.500 | loss_total     0.93416 | train_MAE     0.72802 | valid_MAE     0.75651 | grad_wrt_mu     0.34373 | grad_wrt_b_per_user     0.00145 | grad_wrt_c_per_item     0.00081\n",
      "epoch       7.000 | loss_total     0.94532 | train_MAE     0.72198 | valid_MAE     0.75172 | grad_wrt_mu     0.09871 | grad_wrt_b_per_user     0.00145 | grad_wrt_c_per_item     0.00076\n",
      "epoch       7.500 | loss_total     0.95203 | train_MAE     0.78869 | valid_MAE     0.80883 | grad_wrt_mu     1.18234 | grad_wrt_b_per_user     0.00175 | grad_wrt_c_per_item     0.00099\n",
      "epoch       8.000 | loss_total     0.95105 | train_MAE     0.74623 | valid_MAE     0.77029 | grad_wrt_mu     0.13271 | grad_wrt_b_per_user     0.00134 | grad_wrt_c_per_item     0.00075\n",
      "epoch       9.000 | loss_total     0.93811 | train_MAE     0.76276 | valid_MAE     0.78421 | grad_wrt_mu     0.89240 | grad_wrt_b_per_user     0.00171 | grad_wrt_c_per_item     0.00095\n",
      "epoch       9.999 | loss_total     0.95225 | train_MAE     0.72253 | valid_MAE     0.75110 | grad_wrt_mu     0.35375 | grad_wrt_b_per_user     0.00134 | grad_wrt_c_per_item     0.00073\n"
     ]
    }
   ],
   "source": [
    "# Fit the model with SGD\n",
    "model.fit(train_tuple, valid_tuple)"
   ]
  },
  {
   "cell_type": "code",
   "execution_count": 8,
   "metadata": {},
   "outputs": [
    {
     "data": {
      "text/plain": [
       "(0.6, 2.3)"
      ]
     },
     "execution_count": 8,
     "metadata": {},
     "output_type": "execute_result"
    },
    {
     "data": {
      "image/png": "[encoded data removed]",
      "text/plain": [
       "<Figure size 432x288 with 1 Axes>"
      ]
     },
     "metadata": {
      "needs_background": "light"
     },
     "output_type": "display_data"
    }
   ],
   "source": [
    "plt.plot(model.trace_epoch, model.trace_mae_train, '.:')\n",
    "plt.plot(model.trace_epoch, model.trace_mae_valid, '.-')\n",
    "plt.ylim(0.6, 2.3)"
   ]
  },
  {
   "cell_type": "code",
   "execution_count": null,
   "metadata": {},
   "outputs": [],
   "source": []
  }
 ],
 "metadata": {
  "kernelspec": {
   "display_name": "Python 3",
   "language": "python",
   "name": "python3"
  },
  "language_info": {
   "codemirror_mode": {
    "name": "ipython",
    "version": 3
   },
   "file_extension": ".py",
   "mimetype": "text/x-python",
   "name": "python",
   "nbconvert_exporter": "python",
   "pygments_lexer": "ipython3",
   "version": "3.8.3"
  }
 },
 "nbformat": 4,
 "nbformat_minor": 4
}
